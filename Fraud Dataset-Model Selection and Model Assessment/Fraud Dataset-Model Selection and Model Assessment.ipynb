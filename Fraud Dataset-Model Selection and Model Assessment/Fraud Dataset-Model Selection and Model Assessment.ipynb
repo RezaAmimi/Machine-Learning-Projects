{
 "cells": [
  {
   "cell_type": "markdown",
   "metadata": {
    "id": "Wi_wIVzzbJIU"
   },
   "source": [
    "\n",
    "## [Note #05 - Model Selection and Model Assessment]\n",
    "\n"
   ]
  },
  {
   "cell_type": "markdown",
   "metadata": {
    "id": "Fs-KJZ7jbJIh"
   },
   "source": [
    "## Import Libraries\n",
    "* See various conventions and acronyms."
   ]
  },
  {
   "cell_type": "code",
   "execution_count": 26,
   "metadata": {
    "id": "wAKMrSQubJIh"
   },
   "outputs": [],
   "source": [
    "import numpy as np\n",
    "import pandas as pd\n",
    "import matplotlib.pyplot as plt\n"
   ]
  },
  {
   "cell_type": "markdown",
   "metadata": {
    "id": "dINsxbBvbJIi"
   },
   "source": [
    "## Load the data into a DataFrame\n",
    "* Read directly from a csv (excel-like) data."
   ]
  },
  {
   "cell_type": "code",
   "execution_count": 27,
   "metadata": {
    "colab": {
     "base_uri": "https://localhost:8080/"
    },
    "id": "SxTBFShOc9xp",
    "outputId": "9844cee1-2582-42d3-bd07-6f798975b2b7"
   },
   "outputs": [
    {
     "name": "stdout",
     "output_type": "stream",
     "text": [
      "<class 'pandas.core.frame.DataFrame'>\n",
      "Index(['Time', 'V1', 'V2', 'V3', 'V4', 'V5', 'V6', 'V7', 'V8', 'V9', 'V10',\n",
      "       'V11', 'V12', 'V13', 'V14', 'V15', 'V16', 'V17', 'V18', 'V19', 'V20',\n",
      "       'V21', 'V22', 'V23', 'V24', 'V25', 'V26', 'V27', 'V28', 'Amount',\n",
      "       'Class'],\n",
      "      dtype='object')\n"
     ]
    }
   ],
   "source": [
    "FraudDataset = pd.read_csv('fraud.csv')\n",
    "print(type(FraudDataset))\n",
    "print(FraudDataset.keys())"
   ]
  },
  {
   "cell_type": "markdown",
   "metadata": {
    "id": "8ooKj4Zwgtld"
   },
   "source": [
    "## Verify basic data statistics\n",
    "* Count the number of features. (i.e., attributes)\n",
    "* Count the number of examples. (i.e., instances and labels)\n",
    "* Unfortunately we don't know what each feature means due to privacy concerns.\n",
    "* Class variable: 0 (standard) / 1 (fradulent)\n"
   ]
  },
  {
   "cell_type": "code",
   "execution_count": 28,
   "metadata": {
    "colab": {
     "base_uri": "https://localhost:8080/"
    },
    "id": "2ycsrrcXeYx3",
    "outputId": "eb406f92-7cdf-457b-8c98-aad7d1b8469d"
   },
   "outputs": [
    {
     "name": "stdout",
     "output_type": "stream",
     "text": [
      "- # of features = 30\n",
      "- # of examples = 284807\n",
      "            Time         V1         V2        V3        V4  ...       V26  \\\n",
      "0            0.0  -1.359807  -0.072781  2.536347  1.378155  ... -0.189115   \n",
      "1            0.0   1.191857   0.266151  0.166480  0.448154  ...  0.125895   \n",
      "2            1.0  -1.358354  -1.340163  1.773209  0.379780  ... -0.139097   \n",
      "3            1.0  -0.966272  -0.185226  1.792993 -0.863291  ... -0.221929   \n",
      "4            2.0  -1.158233   0.877737  1.548718  0.403034  ...  0.502292   \n",
      "...          ...        ...        ...       ...       ...  ...       ...   \n",
      "284802  172786.0 -11.881118  10.071785 -9.834783 -2.066656  ...  0.250034   \n",
      "284803  172787.0  -0.732789  -0.055080  2.035030 -0.738589  ... -0.395255   \n",
      "284804  172788.0   1.919565  -0.301254 -3.249640 -0.557828  ... -0.087371   \n",
      "284805  172788.0  -0.240440   0.530483  0.702510  0.689799  ...  0.546668   \n",
      "284806  172792.0  -0.533413  -0.189733  0.703337 -0.506271  ... -0.818267   \n",
      "\n",
      "             V27       V28  Amount  Class  \n",
      "0       0.133558 -0.021053  149.62      0  \n",
      "1      -0.008983  0.014724    2.69      0  \n",
      "2      -0.055353 -0.059752  378.66      0  \n",
      "3       0.062723  0.061458  123.50      0  \n",
      "4       0.219422  0.215153   69.99      0  \n",
      "...          ...       ...     ...    ...  \n",
      "284802  0.943651  0.823731    0.77      0  \n",
      "284803  0.068472 -0.053527   24.79      0  \n",
      "284804  0.004455 -0.026561   67.88      0  \n",
      "284805  0.108821  0.104533   10.00      0  \n",
      "284806 -0.002415  0.013649  217.00      0  \n",
      "\n",
      "[284807 rows x 31 columns]\n"
     ]
    }
   ],
   "source": [
    "def printBasicStats(dataset):\n",
    "  print('- # of features = %d' % (len(dataset.keys()) - 1))\n",
    "  print('- # of examples = %d' % len(dataset))\n",
    "  \n",
    "printBasicStats(FraudDataset)\n",
    "print(FraudDataset)"
   ]
  },
  {
   "cell_type": "markdown",
   "metadata": {
    "id": "O-a_Fm2du-mT"
   },
   "source": [
    "## Data inspection\n",
    "* See the label imbalance.\n",
    "* Measure the baseline accuracy.\n"
   ]
  },
  {
   "cell_type": "code",
   "execution_count": 29,
   "metadata": {
    "colab": {
     "base_uri": "https://localhost:8080/"
    },
    "id": "ptx29gCt6mQo",
    "outputId": "488a39ae-4637-4410-8175-66c0df1ee52f"
   },
   "outputs": [
    {
     "name": "stdout",
     "output_type": "stream",
     "text": [
      "0    284315\n",
      "1       492\n",
      "Name: Class, dtype: int64\n"
     ]
    }
   ],
   "source": [
    "Counts = FraudDataset['Class'].value_counts()\n",
    "print(Counts)"
   ]
  },
  {
   "cell_type": "code",
   "execution_count": 30,
   "metadata": {
    "colab": {
     "base_uri": "https://localhost:8080/"
    },
    "id": "zaQuKmCXbJIj",
    "outputId": "5066b86d-2323-4aa9-978d-5b2c8e2626c2"
   },
   "outputs": [
    {
     "name": "stdout",
     "output_type": "stream",
     "text": [
      "                Time            V1            V2            V3            V4  \\\n",
      "count  284807.000000  2.848070e+05  2.848070e+05  2.848070e+05  2.848070e+05   \n",
      "mean    94813.859575  1.758743e-12 -8.252298e-13 -9.636929e-13  8.316157e-13   \n",
      "std     47488.145955  1.958696e+00  1.651309e+00  1.516255e+00  1.415869e+00   \n",
      "min         0.000000 -5.640751e+01 -7.271573e+01 -4.832559e+01 -5.683171e+00   \n",
      "25%     54201.500000 -9.203734e-01 -5.985499e-01 -8.903648e-01 -8.486401e-01   \n",
      "50%     84692.000000  1.810880e-02  6.548556e-02  1.798463e-01 -1.984653e-02   \n",
      "75%    139320.500000  1.315642e+00  8.037239e-01  1.027196e+00  7.433413e-01   \n",
      "max    172792.000000  2.454930e+00  2.205773e+01  9.382558e+00  1.687534e+01   \n",
      "\n",
      "       ...           V26           V27           V28         Amount  \\\n",
      "count  ...  2.848070e+05  2.848070e+05  2.848070e+05  284807.000000   \n",
      "mean   ... -5.615260e-13  3.332112e-12 -3.518886e-12      88.349619   \n",
      "std    ...  4.822270e-01  4.036325e-01  3.300833e-01     250.120109   \n",
      "min    ... -2.604551e+00 -2.256568e+01 -1.543008e+01       0.000000   \n",
      "25%    ... -3.269839e-01 -7.083953e-02 -5.295979e-02       5.600000   \n",
      "50%    ... -5.213911e-02  1.342146e-03  1.124383e-02      22.000000   \n",
      "75%    ...  2.409522e-01  9.104512e-02  7.827995e-02      77.165000   \n",
      "max    ...  3.517346e+00  3.161220e+01  3.384781e+01   25691.160000   \n",
      "\n",
      "               Class  \n",
      "count  284807.000000  \n",
      "mean        0.001727  \n",
      "std         0.041527  \n",
      "min         0.000000  \n",
      "25%         0.000000  \n",
      "50%         0.000000  \n",
      "75%         0.000000  \n",
      "max         1.000000  \n",
      "\n",
      "[8 rows x 31 columns]\n",
      "0    284315\n",
      "1       492\n",
      "Name: Class, dtype: int64\n",
      "0.9982725143693799\n"
     ]
    }
   ],
   "source": [
    "pd.set_option('display.max_columns', 10)\n",
    "print(FraudDataset.describe(exclude=None))\n",
    "\n",
    "Counts = FraudDataset['Class'].value_counts()\n",
    "print(Counts)\n",
    "\n",
    "BaseLineAcc = Counts[0]/(Counts[0] + Counts[1])\n",
    "print(BaseLineAcc)\n"
   ]
  },
  {
   "cell_type": "markdown",
   "metadata": {
    "id": "9noHAgdBbJIk"
   },
   "source": [
    "## Data inspection Part II.\n",
    "* Measure the correlation.\n",
    "* Let's draw heatmap as an intuitive visualization.\n"
   ]
  },
  {
   "cell_type": "code",
   "execution_count": 6,
   "metadata": {
    "colab": {
     "base_uri": "https://localhost:8080/",
     "height": 1000
    },
    "id": "GIfrBGP-bJIk",
    "outputId": "aba0e842-fb67-4dcb-bd15-9b5805c6d228"
   },
   "outputs": [
    {
     "name": "stdout",
     "output_type": "stream",
     "text": [
      "            Time            V1            V2            V3            V4  ...  \\\n",
      "Time    1.000000  1.173963e-01 -1.059333e-02 -4.196182e-01 -1.052602e-01  ...   \n",
      "V1      0.117396  1.000000e+00  3.777386e-12 -2.119585e-12 -1.724017e-13  ...   \n",
      "V2     -0.010593  3.777386e-12  1.000000e+00  2.326821e-12 -2.314711e-12  ...   \n",
      "V3     -0.419618 -2.119585e-12  2.326821e-12  1.000000e+00  2.036710e-13  ...   \n",
      "V4     -0.105260 -1.724017e-13 -2.314711e-12  2.036710e-13  1.000000e+00  ...   \n",
      "V5      0.173072 -3.472870e-12 -1.832637e-12 -4.031527e-12 -2.549916e-13  ...   \n",
      "V6     -0.063016 -1.306592e-13  9.439633e-13 -1.582965e-13  1.083580e-12  ...   \n",
      "V7      0.084714 -1.127393e-13  5.403061e-12  3.404521e-12  8.130086e-13  ...   \n",
      "V8     -0.036949  2.115132e-12  2.153414e-14 -1.271766e-12  7.338233e-13  ...   \n",
      "V9     -0.008660  3.081639e-14  3.239499e-13 -6.819934e-13 -7.138427e-13  ...   \n",
      "V10     0.030617 -2.615209e-12  1.463139e-12 -1.611234e-12 -1.938801e-12  ...   \n",
      "V11    -0.247689  1.866050e-12 -8.312889e-13  8.717778e-13  1.875265e-12  ...   \n",
      "V12     0.124348 -1.238751e-12  6.139500e-13 -2.729282e-12  5.384794e-13  ...   \n",
      "V13    -0.065902  7.587057e-13 -1.180868e-12 -1.021796e-12  6.814508e-13  ...   \n",
      "V14    -0.098757 -1.870823e-13 -3.385766e-13 -5.568839e-13 -1.403949e-12  ...   \n",
      "V15    -0.183453 -3.599620e-13  2.200546e-13  6.438765e-13  1.526633e-12  ...   \n",
      "V16     0.011903 -1.142579e-12 -8.001072e-13 -8.741567e-13  3.078666e-13  ...   \n",
      "V17    -0.073297  1.671929e-12  2.028338e-12 -1.060595e-12  1.137838e-14  ...   \n",
      "V18     0.090438 -5.736991e-13 -1.911768e-14 -8.846121e-13 -1.309646e-12  ...   \n",
      "V19     0.028975 -2.770313e-12 -2.238263e-13 -1.060920e-12 -9.753449e-13  ...   \n",
      "V20    -0.050866  2.660170e-13  5.842566e-13  1.874043e-12 -2.347341e-12  ...   \n",
      "V21     0.044736 -3.276409e-12  2.280624e-12  6.735960e-13 -2.696261e-12  ...   \n",
      "V22     0.144059  2.281843e-12 -2.545709e-13 -8.922035e-13  4.343923e-13  ...   \n",
      "V23     0.051142 -2.971523e-12 -4.855967e-12  4.146836e-12 -4.161184e-12  ...   \n",
      "V24    -0.016182 -1.029987e-12  6.430858e-13  3.408174e-12 -2.368673e-12  ...   \n",
      "V25    -0.233083  1.146728e-12 -9.427890e-13  5.718362e-13  1.619552e-12  ...   \n",
      "V26    -0.041407  1.835367e-12 -4.128661e-13 -2.576520e-12 -3.045481e-13  ...   \n",
      "V27    -0.005135  7.624885e-12 -9.857578e-13 -5.041949e-12 -1.455904e-12  ...   \n",
      "V28    -0.009413 -9.774773e-13  2.525320e-12  5.188994e-12 -2.832333e-12  ...   \n",
      "Amount -0.010596 -2.277087e-01 -5.314089e-01 -2.108805e-01  9.873167e-02  ...   \n",
      "Class  -0.012323 -1.013473e-01  9.128865e-02 -1.929608e-01  1.334475e-01  ...   \n",
      "\n",
      "                 V26           V27           V28    Amount     Class  \n",
      "Time   -4.140710e-02 -5.134591e-03 -9.412688e-03 -0.010596 -0.012323  \n",
      "V1      1.835367e-12  7.624885e-12 -9.774773e-13 -0.227709 -0.101347  \n",
      "V2     -4.128661e-13 -9.857578e-13  2.525320e-12 -0.531409  0.091289  \n",
      "V3     -2.576520e-12 -5.041949e-12  5.188994e-12 -0.210880 -0.192961  \n",
      "V4     -3.045481e-13 -1.455904e-12 -2.832333e-12  0.098732  0.133447  \n",
      "V5     -1.895655e-13 -2.124508e-12  1.010195e-11 -0.386356 -0.094974  \n",
      "V6      3.351155e-12  1.480833e-12 -6.072099e-13  0.215981 -0.043643  \n",
      "V7     -4.475969e-12 -1.328689e-11  2.955517e-13  0.397311 -0.187257  \n",
      "V8      1.043929e-12 -3.500241e-12  1.866554e-12 -0.103079  0.019875  \n",
      "V9     -7.738355e-13  2.429466e-12 -1.406037e-12 -0.044246 -0.097733  \n",
      "V10    -2.739912e-13  1.552759e-12  5.116566e-12 -0.101502 -0.216883  \n",
      "V11     2.718052e-12 -3.950192e-12 -4.248014e-12  0.000104  0.154876  \n",
      "V12     2.816604e-13  5.952724e-13 -7.428139e-12 -0.009542 -0.260593  \n",
      "V13    -2.008516e-12  4.975675e-12 -6.778011e-12  0.005293 -0.004570  \n",
      "V14    -3.298712e-13 -2.447651e-12 -1.700001e-12  0.033751 -0.302544  \n",
      "V15     5.477463e-13 -4.690795e-12 -4.214974e-12 -0.002986 -0.004223  \n",
      "V16    -1.323907e-12  7.022680e-12  5.739623e-13 -0.003910 -0.196539  \n",
      "V17     2.941034e-12 -1.324300e-12  1.853972e-12  0.007309 -0.326481  \n",
      "V18    -1.810657e-12 -4.949657e-12  4.113090e-12  0.035650 -0.111485  \n",
      "V19     2.412142e-12 -2.201361e-12  3.450670e-12 -0.056151  0.034783  \n",
      "V20     1.466899e-13 -2.996593e-12  6.125392e-12  0.339403  0.020090  \n",
      "V21     8.462860e-13 -8.528788e-13  4.257426e-12  0.105999  0.040413  \n",
      "V22    -1.014966e-12 -1.726243e-13  5.948480e-12 -0.064801  0.000805  \n",
      "V23    -1.002527e-12  9.199453e-12  3.820045e-12 -0.112633 -0.002685  \n",
      "V24     1.604807e-12  1.554686e-12  1.380793e-11  0.005146 -0.007221  \n",
      "V25     2.112541e-12 -6.225186e-13 -8.597137e-12 -0.047837  0.003308  \n",
      "V26     1.000000e+00  2.374837e-12 -1.036867e-11 -0.003208  0.004455  \n",
      "V27     2.374837e-12  1.000000e+00 -4.440761e-12  0.028825  0.017580  \n",
      "V28    -1.036867e-11 -4.440761e-12  1.000000e+00  0.010258  0.009536  \n",
      "Amount -3.208037e-03  2.882546e-02  1.025822e-02  1.000000  0.005632  \n",
      "Class   4.455398e-03  1.757973e-02  9.536041e-03  0.005632  1.000000  \n",
      "\n",
      "[31 rows x 31 columns]\n"
     ]
    },
    {
     "data": {
      "text/plain": [
       "<matplotlib.axes._subplots.AxesSubplot at 0x7feedbf7cf90>"
      ]
     },
     "execution_count": 6,
     "metadata": {
      "tags": []
     },
     "output_type": "execute_result"
    },
    {
     "data": {
      "image/png": "[encoded data removed]",
      "text/plain": [
       "<Figure size 432x288 with 2 Axes>"
      ]
     },
     "metadata": {
      "needs_background": "light",
      "tags": []
     },
     "output_type": "display_data"
    }
   ],
   "source": [
    "print(FraudDataset.corr())\n",
    "\n",
    "import seaborn as sns\n",
    "sns.heatmap(FraudDataset.corr(), cmap=sns.diverging_palette(220, 10, as_cmap=True))"
   ]
  },
  {
   "cell_type": "markdown",
   "metadata": {
    "id": "BY576FhOg7xa"
   },
   "source": [
    "## Data split\n",
    "* Must split into train and test data but with respect to the class distribution.\n"
   ]
  },
  {
   "cell_type": "code",
   "execution_count": 41,
   "metadata": {
    "id": "ljg5JPskg7Ma"
   },
   "outputs": [],
   "source": [
    "from sklearn.model_selection import StratifiedShuffleSplit\n",
    "\n",
    "def splitTrainTest(df, size):\n",
    "  split = StratifiedShuffleSplit(n_splits=1, test_size=size, random_state=0)\n",
    "\n",
    "  # For each pair of train and test indices,\n",
    "  X = df.drop('Class', axis=1)\n",
    "  y = df.Class  \n",
    "  for trainIndexes, testIndexes in split.split(X, y):\n",
    "    X_train, y_train = X.iloc[trainIndexes], y.iloc[trainIndexes]\n",
    "    X_test, y_test = X.iloc[testIndexes], y.iloc[testIndexes]\n",
    "\n",
    "  return (X_train, y_train), (X_test, y_test)\n",
    "\n",
    "(X_train, y_train), (X_test, y_test) = splitTrainTest(FraudDataset, 0.2)"
   ]
  },
  {
   "cell_type": "code",
   "execution_count": 8,
   "metadata": {
    "colab": {
     "base_uri": "https://localhost:8080/"
    },
    "id": "TecDfoLCqFDi",
    "outputId": "5b2b5611-56fd-4fe6-e103-ed2e41cec561"
   },
   "outputs": [
    {
     "name": "stdout",
     "output_type": "stream",
     "text": [
      "0    227451\n",
      "1       394\n",
      "Name: Class, dtype: int64\n",
      "0    56864\n",
      "1       98\n",
      "Name: Class, dtype: int64\n"
     ]
    }
   ],
   "source": [
    "print(y_train.value_counts())\n",
    "print(y_test.value_counts())"
   ]
  },
  {
   "cell_type": "markdown",
   "metadata": {
    "id": "WMcdoEH9-6Np"
   },
   "source": [
    "## Logistic Regression \n",
    "* Train the logistic regression.\n",
    "* Train again with normalization.\n"
   ]
  },
  {
   "cell_type": "code",
   "execution_count": 42,
   "metadata": {
    "colab": {
     "base_uri": "https://localhost:8080/"
    },
    "id": "6At9tfyu_wcC",
    "outputId": "ba9b5770-5ce4-4324-fd58-91ef51859505"
   },
   "outputs": [
    {
     "name": "stdout",
     "output_type": "stream",
     "text": [
      "0.9992143781957032\n",
      "[[227418     33]\n",
      " [   146    248]]\n"
     ]
    }
   ],
   "source": [
    "from sklearn.linear_model import LogisticRegression\n",
    "from sklearn.metrics import accuracy_score, confusion_matrix \n",
    "\n",
    "def doLogisticRegression(X, y, normalize=False):\n",
    "  # If normalize option is enabled,\n",
    "  if normalize:\n",
    "    # For each feature (indexed by j as usual)\n",
    "    for j in X.columns:\n",
    "      # Subtract its column mean and update the value.\n",
    "      X[j] -= X[j].mean()\n",
    "\n",
    "      # Divide by its standard deviation and update the value.\n",
    "      X[j] /= X[j].std()\n",
    "\n",
    "  # Instanciate an object from Logistic Regression class.\n",
    "  lr = LogisticRegression()\n",
    "\n",
    "  # Perform training and prediction.\n",
    "  lr.fit(X, y)\n",
    "  y_pred = lr.predict(X)\n",
    "      \n",
    "  # Return training accuracy and confusion matrix.\n",
    "  return accuracy_score(y, y_pred), confusion_matrix(y, y_pred), lr\n",
    "\n",
    "TrainAcc, TrainConf, LR = doLogisticRegression(X_train, y_train, normalize=True)\n",
    "print(TrainAcc)\n",
    "print(TrainConf)"
   ]
  },
  {
   "cell_type": "code",
   "execution_count": 43,
   "metadata": {
    "colab": {
     "base_uri": "https://localhost:8080/"
    },
    "id": "-5LcgQphsA6n",
    "outputId": "a8c209f0-38fd-40a2-9159-4164d1fc1b8e"
   },
   "outputs": [
    {
     "name": "stdout",
     "output_type": "stream",
     "text": [
      "0.9979986657771848\n",
      "[[56848    16]\n",
      " [   98     0]]\n"
     ]
    }
   ],
   "source": [
    "y_test_pred = LR.predict(X_test)\n",
    "TestAcc, TestConf = accuracy_score(y_test, y_test_pred), confusion_matrix(y_test, y_test_pred)\n",
    "print(TestAcc)\n",
    "print(TestConf)\n"
   ]
  },
  {
   "cell_type": "markdown",
   "metadata": {
    "id": "shVu5WGREfYP"
   },
   "source": [
    "------------------------------------------------------------\n",
    "------------------------------------------------------------\n",
    "\n",
    "\n"
   ]
  },
  {
   "cell_type": "markdown",
   "metadata": {
    "id": "NK7cS0DrEoNf"
   },
   "source": [
    "## Does anyone figure out what's wrong in here?\n",
    "* None of the fradulent transactions are predicted correctly?\n",
    "* We should normalize test data as well."
   ]
  },
  {
   "cell_type": "code",
   "execution_count": 61,
   "metadata": {
    "colab": {
     "base_uri": "https://localhost:8080/"
    },
    "id": "v4LTILeXFHo3",
    "outputId": "543cd3b7-824a-4a9c-feea-62b25337f49d"
   },
   "outputs": [
    {
     "name": "stdout",
     "output_type": "stream",
     "text": [
      "0.5745760331449036\n",
      "[[32646 24218]\n",
      " [   15    83]]\n"
     ]
    }
   ],
   "source": [
    "def normalize(X):\n",
    "  X_norm = X.copy()\n",
    "  for j in X_norm.columns:\n",
    "    # Subtract its column mean and update the value.\n",
    "    X_norm[j] -= X_norm[j].mean()\n",
    "\n",
    "    # Divide by its standard deviation and update the value.\n",
    "    X_norm[j] /= X_norm[j].std()\n",
    "\n",
    "    return X_norm\n",
    "\n",
    "\n",
    "(X_train, y_train), (X_test, y_test) = splitTrainTest(FraudDataset, 0.2)\n",
    "X_test_norm = normalize(X_test)\n",
    "TrainAcc, TrainConf, LR = doLogisticRegression(X_train, y_train, normalize=True)\n",
    "y_test_pred = LR.predict(X_test_norm)\n",
    "TestAcc, TestConf = accuracy_score(y_test, y_test_pred), confusion_matrix(y_test, y_test_pred)\n",
    "print(TestAcc)\n",
    "print(TestConf)"
   ]
  },
  {
   "cell_type": "markdown",
   "metadata": {
    "id": "MuMW7MDhGA9T"
   },
   "source": [
    "\n",
    "## Still does not work. The standard protocol.\n",
    "* Better prediction for true negatives but lots of false positives.\n",
    "* Now let's normalized consistently based on training data's statistics."
   ]
  },
  {
   "cell_type": "code",
   "execution_count": 62,
   "metadata": {
    "colab": {
     "base_uri": "https://localhost:8080/"
    },
    "id": "f7MU6bl7F_hg",
    "outputId": "a36e8533-cafa-4a3e-81f9-c73b83d71805"
   },
   "outputs": [
    {
     "name": "stderr",
     "output_type": "stream",
     "text": [
      "/usr/local/lib/python3.7/dist-packages/sklearn/linear_model/_logistic.py:940: ConvergenceWarning: lbfgs failed to converge (status=1):\n",
      "STOP: TOTAL NO. of ITERATIONS REACHED LIMIT.\n",
      "\n",
      "Increase the number of iterations (max_iter) or scale the data as shown in:\n",
      "    https://scikit-learn.org/stable/modules/preprocessing.html\n",
      "Please also refer to the documentation for alternative solver options:\n",
      "    https://scikit-learn.org/stable/modules/linear_model.html#logistic-regression\n",
      "  extra_warning_msg=_LOGISTIC_SOLVER_CONVERGENCE_MSG)\n"
     ]
    },
    {
     "name": "stdout",
     "output_type": "stream",
     "text": [
      "0.833538148239177\n",
      "[[47393  9471]\n",
      " [   11    87]]\n"
     ]
    }
   ],
   "source": [
    "def normalize(X, X_train):\n",
    "  X_norm = X.copy()\n",
    "  for j in X_norm.columns:\n",
    "    # Subtract its column mean and update the value.\n",
    "    X_norm[j] -= X_train[j].mean()\n",
    "\n",
    "    # Divide by its standard deviation and update the value.\n",
    "    X_norm[j] /= X_train[j].std()\n",
    "\n",
    "    return X_norm\n",
    "\n",
    "(X_train, y_train), (X_test, y_test) = splitTrainTest(FraudDataset, 0.2)\n",
    "X_test_norm = normalize(X_test, X_train)\n",
    "TrainAcc, TrainConf, LR = doLogisticRegression(X_train, y_train, normalize=False)\n",
    "y_test_pred = LR.predict(X_test_norm)\n",
    "TestAcc, TestConf = accuracy_score(y_test, y_test_pred), confusion_matrix(y_test, y_test_pred)\n",
    "print(TestAcc)\n",
    "print(TestConf)"
   ]
  },
  {
   "cell_type": "markdown",
   "metadata": {
    "id": "GGRuqqAGo-8b"
   },
   "source": [
    "## Ideal case\n",
    "* If we can access test data in advance, normalize altogether.\n",
    "* Show the best result.\n"
   ]
  },
  {
   "cell_type": "code",
   "execution_count": 63,
   "metadata": {
    "colab": {
     "base_uri": "https://localhost:8080/"
    },
    "id": "9qtGQbFFI3hy",
    "outputId": "605fe7ef-6388-416a-c5ff-b412a0b1c454"
   },
   "outputs": [
    {
     "name": "stderr",
     "output_type": "stream",
     "text": [
      "/usr/local/lib/python3.7/dist-packages/sklearn/linear_model/_logistic.py:940: ConvergenceWarning: lbfgs failed to converge (status=1):\n",
      "STOP: TOTAL NO. of ITERATIONS REACHED LIMIT.\n",
      "\n",
      "Increase the number of iterations (max_iter) or scale the data as shown in:\n",
      "    https://scikit-learn.org/stable/modules/preprocessing.html\n",
      "Please also refer to the documentation for alternative solver options:\n",
      "    https://scikit-learn.org/stable/modules/linear_model.html#logistic-regression\n",
      "  extra_warning_msg=_LOGISTIC_SOLVER_CONVERGENCE_MSG)\n"
     ]
    },
    {
     "name": "stdout",
     "output_type": "stream",
     "text": [
      "0.9991924440855307\n",
      "[[56854    10]\n",
      " [   36    62]]\n"
     ]
    }
   ],
   "source": [
    "def normalize(X_train, X_test):\n",
    "  X = pd.concat([X_train, X_test])  \n",
    "  for j in X.columns:\n",
    "    # Subtract its column mean and update the value.\n",
    "    mean = X[j].mean()\n",
    "    X_train[j] -= mean\n",
    "    X_test[j] -= mean\n",
    "\n",
    "    # Divide by its standard deviation and update the value.\n",
    "    std = X[j].std()\n",
    "    X_train[j] /= X_train[j].std()\n",
    "    X_test[j] /= X_test[j].std()\n",
    "\n",
    "    return X_train, X_test\n",
    "\n",
    "(X_train, y_train), (X_test, y_test) = splitTrainTest(FraudDataset, 0.2)\n",
    "X_train_norm, X_test_norm = normalize(X_train, X_test)\n",
    "TrainAcc, TrainConf, LR = doLogisticRegression(X_train_norm, y_train, normalize=False)\n",
    "y_test_pred = LR.predict(X_test_norm)\n",
    "TestAcc, TestConf = accuracy_score(y_test, y_test_pred), confusion_matrix(y_test, y_test_pred)\n",
    "print(TestAcc)\n",
    "print(TestConf)"
   ]
  },
  {
   "cell_type": "markdown",
   "metadata": {
    "id": "Ngay92VZpY9t"
   },
   "source": [
    "# Working with ROC.\n",
    "- See how we generate a ROC curve.\n",
    "- See how we compute an Area Under Curve."
   ]
  },
  {
   "cell_type": "code",
   "execution_count": 64,
   "metadata": {
    "id": "Nu1KYN8hpjsu"
   },
   "outputs": [],
   "source": [
    "from sklearn.metrics import confusion_matrix, classification_report, roc_auc_score, precision_recall_curve, roc_curve, auc, average_precision_score\n",
    "import matplotlib.pyplot as plt\n",
    "def drawPRandRoc(X_train, y_train, X_test, y_test):\n",
    "  figure, (ax1, ax2) = plt.subplots(1, 2, figsize = (12,6))\n",
    "    \n",
    "  X_train_norm, X_test_norm = normalize(X_train, X_test)\n",
    "  trainAcc, trainConf, LR = doLogisticRegression(X_train_norm, y_train, normalize=False)\n",
    "  y_test_pred = LR.predict(X_test_norm)\n",
    "  y_test_pred_prob = LR.predict_proba(X_test_norm)[:, 1]\n",
    "       \n",
    "  # Draw a precision-recall curve.\n",
    "  precision, recall, thresholds_pr = precision_recall_curve(y_test, y_test_pred_prob)\n",
    "  avg_pre = average_precision_score(y_test, y_test_pred_prob)\n",
    "  ax1.plot(precision, recall, label = \" average precision = {:0.2f}\".format(avg_pre), lw = 3, alpha = 0.7)\n",
    "  ax1.set_xlabel('Precision', fontsize = 14)\n",
    "  ax1.set_ylabel('Recall', fontsize = 14)\n",
    "  ax1.set_title('Precision-Recall Curve', fontsize = 18)\n",
    "  ax1.legend(loc = 'best')\n",
    "  \n",
    "  # Find the default threshold\n",
    "  close_default = np.argmin(np.abs(thresholds_pr - 0.5))\n",
    "  ax1.plot(precision[close_default], recall[close_default], 'o', markersize = 8)\n",
    "\n",
    "  # Draw the roc-curve\n",
    "  fpr, tpr, thresholds_roc = roc_curve(y_test, y_test_pred_prob)\n",
    "  roc_auc = auc(fpr,tpr)\n",
    "  ax2.plot(fpr,tpr, label = \" area = {:0.2f}\".format(roc_auc), lw = 3, alpha = 0.7)\n",
    "  ax2.plot([0,1], [0,1], 'r', linestyle = \"--\", lw = 2)\n",
    "  ax2.set_xlabel(\"False Positive Rate\", fontsize = 14)\n",
    "  ax2.set_ylabel(\"True Positive Rate\", fontsize = 14)\n",
    "  ax2.set_title(\"ROC Curve\", fontsize = 18)\n",
    "  ax2.legend(loc = 'best')\n",
    "\n",
    "  # Find the default threshold\n",
    "  close_default = np.argmin(np.abs(thresholds_roc - 0.5))\n",
    "  ax2.plot(fpr[close_default], tpr[close_default], 'o', markersize = 8)\n",
    "  plt.tight_layout()"
   ]
  },
  {
   "cell_type": "code",
   "execution_count": 65,
   "metadata": {
    "colab": {
     "base_uri": "https://localhost:8080/",
     "height": 593
    },
    "id": "zqBx63RPq_qI",
    "outputId": "661afc26-ddd6-4898-dde2-da6d5cf2c0b4"
   },
   "outputs": [
    {
     "name": "stderr",
     "output_type": "stream",
     "text": [
      "/usr/local/lib/python3.7/dist-packages/sklearn/linear_model/_logistic.py:940: ConvergenceWarning: lbfgs failed to converge (status=1):\n",
      "STOP: TOTAL NO. of ITERATIONS REACHED LIMIT.\n",
      "\n",
      "Increase the number of iterations (max_iter) or scale the data as shown in:\n",
      "    https://scikit-learn.org/stable/modules/preprocessing.html\n",
      "Please also refer to the documentation for alternative solver options:\n",
      "    https://scikit-learn.org/stable/modules/linear_model.html#logistic-regression\n",
      "  extra_warning_msg=_LOGISTIC_SOLVER_CONVERGENCE_MSG)\n"
     ]
    },
    {
     "data": {
      "image/png": "[encoded data removed]",
      "text/plain": [
       "<Figure size 864x432 with 2 Axes>"
      ]
     },
     "metadata": {
      "needs_background": "light",
      "tags": []
     },
     "output_type": "display_data"
    }
   ],
   "source": [
    "(X_train, y_train), (X_test, y_test) = splitTrainTest(FraudDataset, 0.2)\n",
    "drawPRandRoc(X_train, y_train, X_test, y_test)"
   ]
  }
 ],
 "metadata": {
  "colab": {
   "collapsed_sections": [],
   "name": "IDS575 - Note #05 - Model Selection and Model Assessment",
   "provenance": [],
   "toc_visible": true
  },
  "kernelspec": {
   "display_name": "Python 3 (ipykernel)",
   "language": "python",
   "name": "python3"
  },
  "language_info": {
   "codemirror_mode": {
    "name": "ipython",
    "version": 3
   },
   "file_extension": ".py",
   "mimetype": "text/x-python",
   "name": "python",
   "nbconvert_exporter": "python",
   "pygments_lexer": "ipython3",
   "version": "3.9.7"
  }
 },
 "nbformat": 4,
 "nbformat_minor": 1
}
