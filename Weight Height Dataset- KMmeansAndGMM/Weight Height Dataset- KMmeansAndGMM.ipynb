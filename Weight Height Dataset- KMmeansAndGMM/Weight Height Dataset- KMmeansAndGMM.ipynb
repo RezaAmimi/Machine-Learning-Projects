{
 "cells": [
  {
   "cell_type": "markdown",
   "metadata": {
    "id": "Wi_wIVzzbJIU"
   },
   "source": [
    " K-Means clustering and Gaussian mixture models(PA)]\n",
    "\n"
   ]
  },
  {
   "cell_type": "markdown",
   "metadata": {
    "id": "moARpwHCor_L"
   },
   "source": [
    "# Connecting Drive to Colab\n",
    "The first thing to do is mounting your Google Drive. This will enable you to access any directory on your Drive inside the Colab notebook."
   ]
  },
  {
   "cell_type": "code",
   "execution_count": 1,
   "metadata": {
    "id": "Bg3ZNQn1o6Cq"
   },
   "outputs": [],
   "source": [
    "#from google.colab import drive\n",
    "#drive.mount('/content/drive')"
   ]
  },
  {
   "cell_type": "markdown",
   "metadata": {
    "id": "Ke9q7UTQo-IB"
   },
   "source": [
    "Go to the directory of your target file"
   ]
  },
  {
   "cell_type": "markdown",
   "metadata": {
    "id": "Fs-KJZ7jbJIh"
   },
   "source": [
    "## Import Libraries\n",
    "* See various conventions and acronyms."
   ]
  },
  {
   "cell_type": "code",
   "execution_count": 4,
   "metadata": {
    "id": "wAKMrSQubJIh"
   },
   "outputs": [],
   "source": [
    "import numpy as np\n",
    "import pandas as pd\n",
    "import matplotlib.pyplot as plt\n",
    "from sklearn.cluster import KMeans\n",
    "from scipy.stats import multivariate_normal"
   ]
  },
  {
   "cell_type": "markdown",
   "metadata": {
    "id": "dINsxbBvbJIi"
   },
   "source": [
    "## Load the data\n",
    "* Verify Python type for the dataset."
   ]
  },
  {
   "cell_type": "code",
   "execution_count": 5,
   "metadata": {
    "colab": {
     "base_uri": "https://localhost:8080/"
    },
    "id": "SxTBFShOc9xp",
    "outputId": "21a5d4df-2e5c-480d-85de-b5a6a3a51905"
   },
   "outputs": [
    {
     "name": "stdout",
     "output_type": "stream",
     "text": [
      "<class 'pandas.core.frame.DataFrame'>\n",
      "Index(['Weight', 'Height'], dtype='object')\n"
     ]
    }
   ],
   "source": [
    "WHDataset = pd.read_csv('WeightAndHeight.csv')\n",
    "print(type(WHDataset))\n",
    "print(WHDataset.keys())"
   ]
  },
  {
   "cell_type": "markdown",
   "metadata": {
    "id": "8ooKj4Zwgtld"
   },
   "source": [
    "## Verify basic data statistics\n",
    "* Count the number of features. (i.e., attributes)\n",
    "* Count the number of examples. (i.e., instances and labels)\n",
    "* No class labels"
   ]
  },
  {
   "cell_type": "code",
   "execution_count": 6,
   "metadata": {
    "colab": {
     "base_uri": "https://localhost:8080/"
    },
    "id": "2ycsrrcXeYx3",
    "outputId": "6e7f7d68-09c3-4087-de92-8c7946be2475"
   },
   "outputs": [
    {
     "name": "stdout",
     "output_type": "stream",
     "text": [
      "- # of features = 2\n",
      "- # of examples = 500\n",
      "        Weight      Height\n",
      "0    67.062924  176.086355\n",
      "1    68.804094  178.388669\n",
      "2    60.930863  170.284496\n",
      "3    59.733843  168.691992\n",
      "4    65.431230  173.763679\n",
      "..         ...         ...\n",
      "495  59.976983  169.679741\n",
      "496  66.423814  174.625574\n",
      "497  53.604698  161.919208\n",
      "498  50.433644  160.794875\n",
      "499  60.224392  169.689709\n",
      "\n",
      "[500 rows x 2 columns]\n"
     ]
    }
   ],
   "source": [
    "def printBasicStats(dataset):\n",
    "  print('- # of features = %d' % (len(dataset.keys())))\n",
    "  print('- # of examples = %d' % len(dataset))\n",
    "  \n",
    "printBasicStats(WHDataset)\n",
    "print(WHDataset)"
   ]
  },
  {
   "cell_type": "markdown",
   "metadata": {
    "id": "Xaysatbkurvx"
   },
   "source": [
    "View the summary of X to make sure all features are numerical. K-means is performed only on the numerical data. If you have categorical variables, you need to convert them into integers"
   ]
  },
  {
   "cell_type": "code",
   "execution_count": 7,
   "metadata": {
    "colab": {
     "base_uri": "https://localhost:8080/"
    },
    "id": "TgJGfsfZvMbK",
    "outputId": "ba2a271f-a1bb-4572-cdc8-290fa1fdefb3"
   },
   "outputs": [
    {
     "name": "stdout",
     "output_type": "stream",
     "text": [
      "<class 'pandas.core.frame.DataFrame'>\n",
      "RangeIndex: 500 entries, 0 to 499\n",
      "Data columns (total 2 columns):\n",
      " #   Column  Non-Null Count  Dtype  \n",
      "---  ------  --------------  -----  \n",
      " 0   Weight  500 non-null    float64\n",
      " 1   Height  500 non-null    float64\n",
      "dtypes: float64(2)\n",
      "memory usage: 7.9 KB\n"
     ]
    }
   ],
   "source": [
    "WHDataset.info()"
   ]
  },
  {
   "cell_type": "markdown",
   "metadata": {
    "id": "O-a_Fm2du-mT"
   },
   "source": [
    "## Data inspection\n",
    "* See correlations between features.\n",
    "* Draw heatmap\n"
   ]
  },
  {
   "cell_type": "code",
   "execution_count": 8,
   "metadata": {
    "colab": {
     "base_uri": "https://localhost:8080/",
     "height": 338
    },
    "id": "zaQuKmCXbJIj",
    "outputId": "8eafdeec-267f-4792-ebce-c3602d7df042"
   },
   "outputs": [
    {
     "name": "stdout",
     "output_type": "stream",
     "text": [
      "          Weight    Height\n",
      "Weight  1.000000  0.957441\n",
      "Height  0.957441  1.000000\n"
     ]
    },
    {
     "data": {
      "text/plain": [
       "<AxesSubplot:>"
      ]
     },
     "execution_count": 8,
     "metadata": {},
     "output_type": "execute_result"
    },
    {
     "data": {
      "image/png": "[encoded data removed]",
      "text/plain": [
       "<Figure size 432x288 with 2 Axes>"
      ]
     },
     "metadata": {
      "needs_background": "light"
     },
     "output_type": "display_data"
    }
   ],
   "source": [
    "print(WHDataset.corr())\n",
    "\n",
    "import seaborn as sns\n",
    "sns.heatmap(WHDataset.corr(), cmap=sns.diverging_palette(220, 10, as_cmap=True))"
   ]
  },
  {
   "cell_type": "markdown",
   "metadata": {
    "id": "nKDOaPKAZUTy"
   },
   "source": [
    "# **1. K-Means**"
   ]
  },
  {
   "cell_type": "markdown",
   "metadata": {
    "id": "WMcdoEH9-6Np"
   },
   "source": [
    "## Using existing library sklearn.cluster.KMeans¶\n",
    "* Use only two columns for visulization\n",
    "* Fit and predict. https://scikit-learn.org/stable/modules/generated/sklearn.cluster.KMeans.html\n",
    "* Find the best number of k.\n"
   ]
  },
  {
   "cell_type": "code",
   "execution_count": 9,
   "metadata": {
    "colab": {
     "base_uri": "https://localhost:8080/",
     "height": 265
    },
    "id": "Ypika44nyGYB",
    "outputId": "ddf08f58-a5b8-4336-9174-d70a35a6aa2f"
   },
   "outputs": [
    {
     "data": {
      "image/png": "[encoded data removed]",
      "text/plain": [
       "<Figure size 432x288 with 1 Axes>"
      ]
     },
     "metadata": {
      "needs_background": "light"
     },
     "output_type": "display_data"
    }
   ],
   "source": [
    "plt.scatter(WHDataset['Weight'],WHDataset['Height'])\n",
    "plt.show()"
   ]
  },
  {
   "cell_type": "code",
   "execution_count": 10,
   "metadata": {
    "colab": {
     "base_uri": "https://localhost:8080/"
    },
    "id": "6At9tfyu_wcC",
    "outputId": "5531fdc7-71af-47e5-e445-52a6ae96bed1"
   },
   "outputs": [
    {
     "data": {
      "text/plain": [
       "KMeans(init='random', n_clusters=4, random_state=5)"
      ]
     },
     "execution_count": 10,
     "metadata": {},
     "output_type": "execute_result"
    }
   ],
   "source": [
    "kmeans = KMeans(n_clusters=4, init='random',random_state=5) \n",
    "# initializing methods:\n",
    "# ‘k-means++’ : selects initial cluster centers for k-mean clustering in a smart way to speed up convergence. See section Notes in k_init for more details.\n",
    "# ‘random’: choose n_clusters observations (rows) at random from data for the initial centroids.\n",
    "\n",
    "kmeans.fit(WHDataset)"
   ]
  },
  {
   "cell_type": "markdown",
   "metadata": {
    "id": "KLPDvhbh0xwX"
   },
   "source": [
    "**Clustering results**"
   ]
  },
  {
   "cell_type": "code",
   "execution_count": 11,
   "metadata": {
    "colab": {
     "base_uri": "https://localhost:8080/"
    },
    "id": "Mrnqo3u007ot",
    "outputId": "097d5f96-3902-4aa0-a5f1-98b5f8fca0b4"
   },
   "outputs": [
    {
     "data": {
      "text/plain": [
       "array([0, 0, 3, 3, 0, 3, 1, 3, 1, 2, 1, 0, 1, 2, 3, 3, 0, 3, 2, 3, 3, 0,\n",
       "       1, 2, 3, 2, 0, 1, 2, 1, 1, 1, 0, 1, 1, 0, 2, 1, 2, 0, 2, 1, 3, 0,\n",
       "       1, 0, 1, 3, 0, 0, 2, 2, 1, 1, 3, 1, 1, 2, 2, 0, 0, 2, 0, 0, 0, 1,\n",
       "       3, 0, 3, 1, 2, 3, 2, 0, 2, 0, 1, 1, 3, 3, 2, 3, 2, 1, 3, 1, 2, 2,\n",
       "       0, 2, 2, 2, 0, 2, 3, 3, 0, 0, 0, 3, 2, 2, 0, 2, 3, 3, 3, 0, 3, 2,\n",
       "       2, 1, 2, 2, 0, 2, 0, 3, 1, 0, 1, 2, 0, 0, 2, 0, 0, 0, 0, 2, 3, 2,\n",
       "       1, 2, 2, 2, 3, 0, 3, 1, 0, 0, 0, 0, 1, 2, 1, 3, 1, 2, 2, 0, 3, 3,\n",
       "       3, 1, 1, 0, 3, 3, 0, 3, 0, 0, 1, 1, 0, 3, 2, 1, 0, 2, 0, 1, 1, 2,\n",
       "       1, 2, 2, 2, 0, 0, 1, 3, 3, 2, 1, 0, 1, 2, 0, 1, 2, 1, 1, 2, 3, 1,\n",
       "       3, 2, 2, 3, 3, 1, 3, 1, 1, 3, 1, 1, 3, 0, 0, 0, 3, 0, 1, 2, 2, 2,\n",
       "       1, 0, 1, 2, 1, 0, 2, 3, 2, 3, 1, 1, 3, 1, 3, 1, 3, 1, 2, 0, 0, 1,\n",
       "       3, 0, 2, 2, 3, 0, 3, 1, 3, 1, 0, 2, 3, 2, 2, 1, 2, 1, 3, 3, 0, 2,\n",
       "       0, 0, 3, 3, 2, 0, 3, 2, 0, 3, 0, 2, 1, 1, 3, 0, 0, 3, 0, 1, 0, 3,\n",
       "       1, 0, 3, 3, 3, 0, 2, 2, 0, 2, 2, 2, 3, 0, 0, 2, 1, 2, 0, 0, 1, 2,\n",
       "       2, 3, 2, 1, 0, 1, 2, 1, 2, 3, 1, 3, 3, 3, 1, 1, 2, 0, 3, 1, 2, 0,\n",
       "       3, 3, 0, 0, 1, 0, 1, 3, 3, 1, 2, 0, 0, 1, 0, 3, 0, 0, 0, 0, 3, 0,\n",
       "       3, 0, 3, 3, 2, 0, 3, 2, 2, 3, 3, 0, 0, 1, 1, 0, 3, 2, 3, 3, 3, 2,\n",
       "       3, 3, 3, 2, 2, 3, 2, 2, 3, 2, 2, 1, 3, 1, 1, 2, 2, 2, 2, 0, 2, 0,\n",
       "       3, 0, 2, 3, 0, 3, 0, 3, 3, 1, 2, 3, 2, 1, 1, 0, 2, 1, 3, 0, 2, 1,\n",
       "       1, 3, 0, 3, 0, 1, 0, 1, 0, 2, 3, 0, 2, 0, 3, 1, 1, 1, 0, 2, 3, 3,\n",
       "       1, 0, 0, 3, 3, 1, 3, 3, 2, 0, 1, 0, 2, 3, 1, 1, 2, 1, 3, 2, 1, 1,\n",
       "       1, 1, 1, 3, 2, 0, 1, 0, 3, 0, 1, 2, 3, 2, 1, 2, 3, 2, 3, 1, 1, 2,\n",
       "       1, 1, 3, 2, 0, 1, 1, 2, 1, 3, 3, 3, 0, 2, 2, 3], dtype=int32)"
      ]
     },
     "execution_count": 11,
     "metadata": {},
     "output_type": "execute_result"
    }
   ],
   "source": [
    "identified_clusters = kmeans.fit_predict(WHDataset)\n",
    "identified_clusters"
   ]
  },
  {
   "cell_type": "code",
   "execution_count": 12,
   "metadata": {
    "colab": {
     "base_uri": "https://localhost:8080/",
     "height": 282
    },
    "id": "cxZW8m3b1DTv",
    "outputId": "86d106c7-cbdb-4b11-f532-ad7260aefbfb"
   },
   "outputs": [
    {
     "data": {
      "text/plain": [
       "<matplotlib.collections.PathCollection at 0x7f8340331d90>"
      ]
     },
     "execution_count": 12,
     "metadata": {},
     "output_type": "execute_result"
    },
    {
     "data": {
      "image/png": "[encoded data removed]",
      "text/plain": [
       "<Figure size 432x288 with 1 Axes>"
      ]
     },
     "metadata": {
      "needs_background": "light"
     },
     "output_type": "display_data"
    }
   ],
   "source": [
    "# plot clusters in different colors\n",
    "data_with_clusters = WHDataset.copy()\n",
    "data_with_clusters['Clusters'] = identified_clusters \n",
    "plt.scatter(data_with_clusters['Weight'],data_with_clusters['Height'],c=data_with_clusters['Clusters'],cmap='rainbow')\n"
   ]
  },
  {
   "cell_type": "markdown",
   "metadata": {
    "id": "wbjXDdxhbJIv"
   },
   "source": [
    "## Finding optimum number of clusters"
   ]
  },
  {
   "cell_type": "code",
   "execution_count": 13,
   "metadata": {
    "id": "8w3UHNSCU74D"
   },
   "outputs": [],
   "source": [
    "clursters_range = [2,3,4,5,6,7,8,9,10]\n",
    "inertias = []\n",
    "\n",
    "for k in clursters_range:\n",
    "  kmeans = KMeans (init='k-means++',n_clusters=k, n_init=100, random_state=0).fit(WHDataset)\n",
    "  inertias.append(kmeans.inertia_) \n",
    "  # kmeans,inertia_ is the Sum of squared distances of samples to their closest cluster center, weighted by the sample weights if provided."
   ]
  },
  {
   "cell_type": "markdown",
   "metadata": {
    "id": "epdORpMz3-zM"
   },
   "source": [
    "**Elbow Method:**\n",
    "Find apoint which represents the most parsimonious balance between minimizing the number of clusters and minimizing the variance within each cluster"
   ]
  },
  {
   "cell_type": "code",
   "execution_count": 14,
   "metadata": {
    "colab": {
     "base_uri": "https://localhost:8080/",
     "height": 265
    },
    "id": "ylAaK_cv3jd1",
    "outputId": "16097a30-b9e2-4c05-823a-07229b0f8cfc"
   },
   "outputs": [
    {
     "data": {
      "image/png": "[encoded data removed]",
      "text/plain": [
       "<Figure size 432x288 with 1 Axes>"
      ]
     },
     "metadata": {
      "needs_background": "light"
     },
     "output_type": "display_data"
    }
   ],
   "source": [
    "plt.figure()\n",
    "plt.plot(clursters_range, inertias, marker='o')\n",
    "plt.show()"
   ]
  },
  {
   "cell_type": "markdown",
   "metadata": {
    "id": "LzCKZ48W4afw"
   },
   "source": [
    "**Silhouette value Method:**\n",
    "*  use all the columns this time\n",
    "*  we want to have high silhouette coefficient for the number of clusters we want to use\n",
    "\n"
   ]
  },
  {
   "cell_type": "code",
   "execution_count": 15,
   "metadata": {
    "colab": {
     "base_uri": "https://localhost:8080/",
     "height": 297
    },
    "id": "9vscyUUT5oA3",
    "outputId": "a632059f-8359-48fe-add5-f62fff4adb13"
   },
   "outputs": [
    {
     "data": {
      "image/png": "[encoded data removed]",
      "text/plain": [
       "<Figure size 432x288 with 2 Axes>"
      ]
     },
     "metadata": {
      "needs_background": "light"
     },
     "output_type": "display_data"
    }
   ],
   "source": [
    "from sklearn.metrics import silhouette_score, silhouette_samples\n",
    "\n",
    "clursters_range = range(2,10)\n",
    "results = []\n",
    "\n",
    "for k in clursters_range:\n",
    "  kmeans = KMeans (init='k-means++',n_clusters=k, n_init=100, random_state=0)\n",
    "  cluster_labels = kmeans.fit_predict(WHDataset)\n",
    "  silhouette_avg = silhouette_score(WHDataset, cluster_labels)\n",
    "  results.append([k, silhouette_avg])\n",
    "\n",
    "result = pd.DataFrame(results, columns=['n_clusters','silhouette_score'])\n",
    "pivot_km = pd.pivot_table(result, index='n_clusters', values='silhouette_score')\n",
    "\n",
    "plt.figure()\n",
    "sns.heatmap(pivot_km, annot=True, linewidths=0.5, fmt='0.3f', cmap=sns.cm.rocket_r)\n",
    "plt.tight_layout()"
   ]
  },
  {
   "cell_type": "markdown",
   "metadata": {
    "id": "sYy61BwF-kQ2"
   },
   "source": [
    "# **2. Gaussian mixture models**\n",
    "## Using existing library sklearn.mixture.GaussianMixture"
   ]
  },
  {
   "cell_type": "code",
   "execution_count": 16,
   "metadata": {
    "colab": {
     "base_uri": "https://localhost:8080/"
    },
    "id": "BqnBvqw6Inil",
    "outputId": "09390a86-7d45-4d4d-d894-97c6ba49e175"
   },
   "outputs": [
    {
     "data": {
      "text/plain": [
       "GaussianMixture(n_components=4)"
      ]
     },
     "execution_count": 16,
     "metadata": {},
     "output_type": "execute_result"
    }
   ],
   "source": [
    "from sklearn.mixture import GaussianMixture \n",
    "gmm = GaussianMixture(n_components = 4) \n",
    "gmm.fit(WHDataset)"
   ]
  },
  {
   "cell_type": "code",
   "execution_count": 17,
   "metadata": {
    "colab": {
     "base_uri": "https://localhost:8080/",
     "height": 265
    },
    "id": "ujzEd3k_-_p4",
    "outputId": "b296a10e-cb1f-4a33-e6ab-e63e43766f42"
   },
   "outputs": [
    {
     "data": {
      "image/png": "[encoded data removed]",
      "text/plain": [
       "<Figure size 432x288 with 1 Axes>"
      ]
     },
     "metadata": {
      "needs_background": "light"
     },
     "output_type": "display_data"
    }
   ],
   "source": [
    "# Visualizing the clustering \n",
    "plt.scatter(WHDataset['Weight'], WHDataset['Height'],  \n",
    "           c = GaussianMixture(n_components = 4).fit_predict(WHDataset), cmap =\"rainbow\") \n",
    "plt.show() \n",
    "# better than KMeans"
   ]
  },
  {
   "cell_type": "markdown",
   "metadata": {
    "id": "vNCp_nghYOhl"
   },
   "source": [
    "Draw ellipse"
   ]
  },
  {
   "cell_type": "code",
   "execution_count": 18,
   "metadata": {
    "id": "jLzJe7CJN-aq"
   },
   "outputs": [],
   "source": [
    "\n",
    "from matplotlib.patches import Ellipse\n",
    "\n",
    "def draw_ellipse(position, covariance, ax=None, **kwargs):\n",
    "    \"\"\"Draw an ellipse with a given position and covariance\"\"\"\n",
    "    ax = ax or plt.gca()\n",
    "    \n",
    "    # Convert covariance to principal axes\n",
    "    if covariance.shape == (2, 2):\n",
    "        U, s, Vt = np.linalg.svd(covariance)\n",
    "        angle = np.degrees(np.arctan2(U[1, 0], U[0, 0]))\n",
    "        width, height = 2 * np.sqrt(s)\n",
    "    else:\n",
    "        angle = 0\n",
    "        width, height = 2 * np.sqrt(covariance)\n",
    "    \n",
    "    # Draw the Ellipse\n",
    "    for nsig in range(1, 4):\n",
    "        ax.add_patch(Ellipse(position, nsig * width, nsig * height,\n",
    "                             angle, **kwargs))\n",
    "        \n",
    "def plot_gmm(gmm, X, label=True, ax=None):\n",
    "    ax = ax or plt.gca()\n",
    "    labels = gmm.fit(X).predict(X)\n",
    "    if label:\n",
    "        ax.scatter(X[\"Weight\"], X[\"Height\"], c=labels, s=40, cmap='rainbow', zorder=2)\n",
    "    else:\n",
    "        ax.scatter(X[\"Weight\"], X[\"Height\"], s=40, zorder=2)\n",
    "    ax.axis('equal')\n",
    "    \n",
    "    w_factor = 0.2 / gmm.weights_.max()\n",
    "    for pos, covar, w in zip(gmm.means_, gmm.covariances_, gmm.weights_):\n",
    "        draw_ellipse(pos, covar, alpha=w * w_factor)"
   ]
  },
  {
   "cell_type": "code",
   "execution_count": 19,
   "metadata": {
    "colab": {
     "base_uri": "https://localhost:8080/",
     "height": 265
    },
    "id": "qnUtPq3WOVGG",
    "outputId": "2c3cf89e-e050-4cc4-828e-9950c2872278"
   },
   "outputs": [
    {
     "data": {
      "image/png": "[encoded data removed]",
      "text/plain": [
       "<Figure size 432x288 with 1 Axes>"
      ]
     },
     "metadata": {
      "needs_background": "light"
     },
     "output_type": "display_data"
    }
   ],
   "source": [
    "plot_gmm(gmm, WHDataset)"
   ]
  },
  {
   "cell_type": "markdown",
   "metadata": {
    "id": "uY0kzI4igZtX"
   },
   "source": [
    "# Programming Assignment (PA)\n",
    "* Implement your own K-Means function\n",
    "* Implement you own EM algorithm for GMM"
   ]
  },
  {
   "cell_type": "markdown",
   "metadata": {
    "id": "il7tBd2OJyR2"
   },
   "source": [
    "## K-Means from scratch"
   ]
  },
  {
   "cell_type": "code",
   "execution_count": 20,
   "metadata": {
    "id": "e9i526jygfDn"
   },
   "outputs": [],
   "source": [
    "# Implement your own K-Means function\n",
    "class MyKMeans:  \n",
    "  cluster_labels = None\n",
    "  centroids = None\n",
    "\n",
    "  def fit(self, X, k):\n",
    "    if isinstance(X, pd.DataFrame):\n",
    "      X = X.values\n",
    "\n",
    "    centroidsChanged = 1\n",
    "    self.cluster_labels = np.zeros(X.shape[0]) \n",
    "\n",
    "    # select k random centroids\n",
    "    # TO-DO: #############################################\n",
    "    \n",
    "    self.centroids = WHDataset.iloc[np.random.randint(0, len(WHDataset), k),:].values\n",
    "    \n",
    "    #######################################################\n",
    "    \n",
    "\n",
    "    while centroidsChanged:\n",
    "      # TO-DO: #############################################\n",
    "      # for each observation, compute the distances to current centroids and update the centroids\n",
    "      for i in range(len(X)):\n",
    "        minimum_dist = 99999999999999\n",
    "        for j in range(len(self.centroids)):\n",
    "          dist = ((self.centroids[j][0] - X[i][0])**2 + (self.centroids[j][1] - X[i][1])**2)**0.5\n",
    "\n",
    "          if minimum_dist > dist:\n",
    "            minimum_dist = dist\n",
    "            self.cluster_labels[i] = j\n",
    "\n",
    "      new_centroids = pd.DataFrame(X).groupby(by=self.cluster_labels).mean().values\n",
    "      ###############################################################\n",
    "      # if centroids are same then leave\n",
    "      if np.count_nonzero(self.centroids - new_centroids) == 0:\n",
    "        centroidsChanged = 0\n",
    "      else:\n",
    "        self.centroids = new_centroids\n",
    "    \n",
    "    return self.centroids, self.cluster_labels  \n",
    "\n"
   ]
  },
  {
   "cell_type": "markdown",
   "metadata": {
    "id": "z5I-SVcm-lXD"
   },
   "source": [
    "Test your code"
   ]
  },
  {
   "cell_type": "code",
   "execution_count": 21,
   "metadata": {
    "colab": {
     "base_uri": "https://localhost:8080/"
    },
    "id": "hBoqqLyH-nqB",
    "outputId": "ff9b9526-c6c0-493f-f3f8-1c7edae8702f"
   },
   "outputs": [
    {
     "name": "stdout",
     "output_type": "stream",
     "text": [
      "[[ 63.63411782 170.11006945]\n",
      " [ 67.56197108 176.02969285]\n",
      " [ 60.6784516  169.339586  ]\n",
      " [ 53.60029808 162.76478198]] [1. 1. 2. 2. 1. 2. 0. 2. 0. 3. 0. 1. 0. 3. 2. 2. 1. 2. 3. 2. 2. 1. 0. 3.\n",
      " 2. 3. 1. 0. 3. 2. 0. 0. 1. 0. 0. 1. 3. 0. 3. 1. 3. 0. 2. 1. 0. 1. 0. 2.\n",
      " 1. 1. 3. 3. 0. 0. 2. 0. 0. 3. 3. 1. 1. 3. 1. 1. 1. 0. 2. 1. 2. 0. 3. 2.\n",
      " 3. 1. 3. 1. 0. 0. 2. 2. 3. 2. 3. 0. 2. 0. 3. 3. 1. 3. 3. 3. 1. 3. 2. 2.\n",
      " 1. 1. 1. 2. 3. 3. 1. 3. 2. 2. 2. 1. 2. 3. 3. 0. 3. 3. 1. 3. 1. 2. 0. 1.\n",
      " 0. 3. 1. 1. 3. 1. 1. 1. 1. 3. 2. 3. 0. 3. 3. 3. 2. 1. 2. 0. 1. 1. 1. 1.\n",
      " 0. 3. 0. 2. 0. 3. 3. 1. 2. 2. 2. 0. 0. 1. 2. 2. 1. 2. 1. 1. 0. 0. 1. 2.\n",
      " 3. 0. 1. 3. 1. 0. 0. 3. 0. 3. 3. 3. 1. 1. 0. 2. 2. 3. 0. 1. 0. 3. 1. 0.\n",
      " 3. 0. 0. 3. 2. 2. 2. 3. 3. 2. 2. 0. 2. 0. 0. 2. 0. 0. 2. 1. 1. 1. 2. 1.\n",
      " 0. 3. 3. 3. 0. 1. 0. 3. 0. 1. 3. 2. 3. 2. 0. 0. 2. 0. 2. 0. 2. 0. 3. 1.\n",
      " 1. 0. 2. 1. 3. 3. 2. 1. 2. 0. 2. 0. 1. 3. 2. 3. 3. 0. 3. 0. 2. 2. 1. 3.\n",
      " 1. 1. 2. 2. 3. 1. 2. 3. 1. 2. 1. 3. 2. 0. 2. 1. 1. 2. 1. 2. 1. 2. 0. 1.\n",
      " 2. 2. 2. 1. 3. 3. 1. 3. 3. 3. 2. 1. 1. 3. 0. 3. 1. 1. 0. 3. 3. 2. 3. 0.\n",
      " 1. 0. 3. 0. 3. 2. 0. 2. 2. 2. 0. 2. 3. 1. 2. 0. 3. 1. 2. 2. 1. 1. 0. 1.\n",
      " 0. 2. 2. 2. 3. 1. 1. 0. 0. 2. 1. 1. 1. 1. 2. 1. 2. 1. 2. 2. 3. 0. 2. 3.\n",
      " 3. 2. 2. 1. 1. 0. 0. 1. 2. 3. 2. 2. 2. 3. 2. 2. 2. 3. 3. 2. 3. 3. 2. 3.\n",
      " 3. 0. 2. 0. 0. 3. 3. 3. 3. 1. 3. 1. 2. 1. 3. 2. 1. 2. 1. 2. 2. 0. 3. 2.\n",
      " 3. 0. 0. 1. 3. 0. 2. 1. 3. 0. 0. 2. 1. 2. 1. 0. 1. 0. 1. 3. 2. 1. 3. 1.\n",
      " 2. 0. 0. 0. 1. 3. 2. 2. 0. 1. 1. 2. 2. 0. 2. 2. 3. 1. 2. 1. 3. 2. 0. 0.\n",
      " 3. 0. 2. 3. 0. 0. 0. 0. 0. 2. 3. 1. 0. 1. 2. 1. 2. 3. 2. 3. 0. 3. 2. 3.\n",
      " 2. 0. 0. 3. 0. 2. 2. 3. 1. 0. 2. 3. 0. 2. 2. 2. 1. 3. 3. 2.]\n"
     ]
    }
   ],
   "source": [
    "mykmeans = MyKMeans()\n",
    "centroids, clusters = mykmeans.fit(WHDataset,4)\n",
    "print (centroids, clusters)"
   ]
  },
  {
   "cell_type": "code",
   "execution_count": 22,
   "metadata": {
    "colab": {
     "base_uri": "https://localhost:8080/",
     "height": 282
    },
    "id": "SCBFy8BvHbUH",
    "outputId": "e59c1959-a380-4d49-99c0-97acf9448b07"
   },
   "outputs": [
    {
     "data": {
      "text/plain": [
       "<matplotlib.collections.PathCollection at 0x7f8332757760>"
      ]
     },
     "execution_count": 22,
     "metadata": {},
     "output_type": "execute_result"
    },
    {
     "data": {
      "image/png": "[encoded data removed]",
      "text/plain": [
       "<Figure size 432x288 with 1 Axes>"
      ]
     },
     "metadata": {
      "needs_background": "light"
     },
     "output_type": "display_data"
    }
   ],
   "source": [
    "# plot clusters in different colors, and compare with the result using built-in kmeans\n",
    "data_with_clusters = WHDataset.copy()\n",
    "data_with_clusters['Clusters'] = clusters \n",
    "plt.scatter(data_with_clusters['Weight'],data_with_clusters['Height'],c=data_with_clusters['Clusters'],cmap='rainbow')\n"
   ]
  },
  {
   "cell_type": "markdown",
   "metadata": {
    "id": "LLxwEILMJ5Rf"
   },
   "source": [
    "## GMM from scratch"
   ]
  },
  {
   "cell_type": "code",
   "execution_count": 23,
   "metadata": {
    "id": "h7FyMp2xJ9Dc"
   },
   "outputs": [],
   "source": [
    "from scipy.stats import multivariate_normal \n",
    "\n",
    "class MyGMM:\n",
    "    def __init__(self, k, max_iter=5):\n",
    "        self.k = k\n",
    "        self.max_iter = int(max_iter) \n",
    "\n",
    "    def initialize(self, X):\n",
    "        # convert pd.dataframe to np.array\n",
    "        X = X.to_numpy()\n",
    "        # returns the (r,c) value of the numpy array of X\n",
    "        self.shape = X.shape \n",
    "        # n has the number of rows while m has the number of columns of dataset X\n",
    "        self.n, self.m = self.shape \n",
    "        \n",
    "\n",
    "        # initial weights given to each cluster are stored in phi or P(Ci=j)\n",
    "        self.phi = np.full(shape=self.k, fill_value=1/self.k) \n",
    "\n",
    "        # initial weights given to each data point wrt to each cluster or P(Xi/Ci=j)\n",
    "        self.probs = np.full(shape=self.shape, fill_value=1/self.k)\n",
    "        \n",
    "        # dataset is divided randomly into k parts of unequal sizes\n",
    "        random_row = np.random.randint(low=0, high=self.n, size=self.k)\n",
    "\n",
    "        # initial value of mean of k Gaussians\n",
    "        self.mu = [  X[row_index,:] for row_index in random_row ] \n",
    "\n",
    "        # initial value of covariance matrix of k Gaussians\n",
    "        self.sigma = [ np.cov(X.T) for _ in range(self.k) ] \n",
    "        # theta =(mu1,sigma1,mu2,simga2......muk,sigmak)\n",
    "\n",
    "    # E-Step: update weights and phi holding mu and sigma constant\n",
    "    def e_step(self, X):\n",
    "        # updated weights or P(Xi/Ci=j)\n",
    "        self.probs = self.predict_proba(X) # you need to implement \"predic_proba\" function below\n",
    "        # mean of sum of probability of all data points wrt to one cluster is new updated probability of cluster k or (phi)k\n",
    "        self.phi = self.probs.mean(axis=0)\n",
    "        \n",
    "\n",
    "    # M-Step: update meu and sigma holding phi and weights constant\n",
    "    def m_step(self, X):\n",
    "        for i in range(self.k):\n",
    "            # TO-DO: #############################################\n",
    "            probabilities = self.predict_proba(X)\n",
    "            probabilities = probabilities[:, [i]]\n",
    "            probabilities_sum = np.sum(probabilities)\n",
    "            self.mu[i] = np.sum(X*probabilities, axis = 0)/probabilities_sum\n",
    "            self.sigma[i] = np.cov(X.T, aweights = (probabilities/probabilities_sum).reshape(-1), bias = True)\n",
    "            #########################################################\n",
    "\n",
    "    # responsible for clustering the data points correctly\n",
    "    def fit(self, X):\n",
    "        # initialise parameters like weights, phi, meu, sigma of all Gaussians in dataset X\n",
    "        self.initialize(X)\n",
    "\n",
    "        for iteration in range(self.max_iter):\n",
    "            # iterate to update the value of P(Xi/Ci=j) and (phi)k\n",
    "            self.e_step(X)\n",
    "            # iterate to update the value of meu and sigma as the clusters shift\n",
    "            self.m_step(X)\n",
    "            \n",
    "    # TO-DO: #############################################\n",
    "    # predicts probability of each data point wrt each cluster\n",
    "    def predict_proba(self, X):\n",
    "        # Creates a n*k matrix denoting probability of each point wrt each cluster\n",
    "        Matrix = np.zeros((self.n, self.k), dtype = \"float\")\n",
    "        for i in range(self.k):\n",
    "            Matrix[:, i] = multivariate_normal.pdf(X, self.mu[i], self.sigma[i])*self.phi[i]\n",
    "        probabilities = Matrix/np.sum(Matrix, axis = 1).reshape(-1, 1)  \n",
    "        return probabilities\n",
    "    ###############################################################\n",
    "    \n",
    "    \n",
    "    # predict function \n",
    "    def predict(self, X):\n",
    "        probs = self.predict_proba(X)\n",
    "        # datapoint belongs to cluster with maximum probability\n",
    "        # returns this value\n",
    "        return np.argmax(probs, axis=1)"
   ]
  },
  {
   "cell_type": "markdown",
   "metadata": {
    "id": "UfMboahzScmR"
   },
   "source": [
    "Try MyGMM"
   ]
  },
  {
   "cell_type": "code",
   "execution_count": 24,
   "metadata": {
    "id": "ZAV6MMg39-Ku"
   },
   "outputs": [],
   "source": [
    "WHDataset.to_numpy().shape\n",
    "from pdb import set_trace"
   ]
  },
  {
   "cell_type": "code",
   "execution_count": 25,
   "metadata": {
    "id": "LFxVuyg7ScAo"
   },
   "outputs": [],
   "source": [
    "mygmm = MyGMM(k=4, max_iter=100)\n",
    "mygmm.fit(WHDataset)"
   ]
  },
  {
   "cell_type": "code",
   "execution_count": 26,
   "metadata": {
    "colab": {
     "base_uri": "https://localhost:8080/",
     "height": 265
    },
    "id": "g0A_mawCTrNU",
    "outputId": "8b7809f3-04b6-406e-fd43-2b512553c0b4"
   },
   "outputs": [
    {
     "data": {
      "image/png": "[encoded data removed]",
      "text/plain": [
       "<Figure size 432x288 with 1 Axes>"
      ]
     },
     "metadata": {
      "needs_background": "light"
     },
     "output_type": "display_data"
    }
   ],
   "source": [
    "# plot mygmm result\n",
    "def plot_mygmm(mygmm, X, label=True, ax=None):\n",
    "    ax = ax or plt.gca()\n",
    "    labels = mygmm.predict(X)\n",
    "  \n",
    "    if label:\n",
    "        ax.scatter(X[\"Weight\"], X[\"Height\"], c=labels, s=40, cmap='rainbow', zorder=2)\n",
    "    else:\n",
    "        ax.scatter(X[\"Weight\"], X[\"Height\"], s=40, zorder=2)\n",
    "    ax.axis('equal')\n",
    "    \n",
    "    w_factor = 0.3 / mygmm.phi.max()\n",
    "    for pos, covar, w in zip(mygmm.mu, mygmm.sigma, mygmm.phi):\n",
    "        draw_ellipse(pos, covar, alpha=w * w_factor)\n",
    "\n",
    "plot_mygmm(mygmm, WHDataset)"
   ]
  },
  {
   "cell_type": "code",
   "execution_count": null,
   "metadata": {},
   "outputs": [],
   "source": []
  },
  {
   "cell_type": "code",
   "execution_count": null,
   "metadata": {},
   "outputs": [],
   "source": []
  },
  {
   "cell_type": "code",
   "execution_count": null,
   "metadata": {},
   "outputs": [],
   "source": []
  }
 ],
 "metadata": {
  "colab": {
   "collapsed_sections": [],
   "name": "IDS575-Quiz-09-KMmeansAndGMM-(PA).ipynb",
   "provenance": []
  },
  "kernelspec": {
   "display_name": "Python 3 (ipykernel)",
   "language": "python",
   "name": "python3"
  },
  "language_info": {
   "codemirror_mode": {
    "name": "ipython",
    "version": 3
   },
   "file_extension": ".py",
   "mimetype": "text/x-python",
   "name": "python",
   "nbconvert_exporter": "python",
   "pygments_lexer": "ipython3",
   "version": "3.9.7"
  }
 },
 "nbformat": 4,
 "nbformat_minor": 1
}
